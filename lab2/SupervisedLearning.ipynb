{
    "metadata": {
        "kernelspec": {
            "name": "python3",
            "display_name": "Python 3 (ipykernel)",
            "language": "python"
        }
    },
    "nbformat": 4,
    "nbformat_minor": 2,
    "cells": [
        {
            "attachments": {},
            "cell_type": "markdown",
            "metadata": {},
            "source": [
                "This code is an introduction to supervised learning solving a classification problem using **decision trees**.\n",
                "It follows [this tutorial](https://youtu.be/7eh4d6sabA0). "
            ]
        },
        {
            "attachments": {},
            "cell_type": "markdown",
            "metadata": {},
            "source": [
                "# **Classification Problem**\n",
                "We will follow these steps of solving a machine learning problem.\n",
                "\n",
                "\n",
                "1. Import the Data\n",
                "2. Clean the Data\n",
                "3. split the Data into Training/ Test steps\n",
                "4. Create a Model\n",
                "5. Train the Model\n",
                "6. Make Predictions\n",
                "7. Evaluate and improve\n",
                ""
            ]
        },
        {
            "attachments": {},
            "cell_type": "markdown",
            "metadata": {},
            "source": [
                "# Problem description\n",
                "Enter in the text cell below what you will be predicting in this classification problem (y) and which columns will be used in the prediction (X)"
            ]
        },
        {
            "attachments": {},
            "cell_type": "markdown",
            "metadata": {},
            "source": [
                ""
            ]
        },
        {
            "cell_type": "code",
            "execution_count": 1,
            "metadata": {},
            "outputs": [],
            "source": [
                "import pandas as pd\n",
                "from sklearn.tree import DecisionTreeClassifier\n",
                "from sklearn.model_selection import train_test_split\n",
                "from sklearn.metrics import accuracy_score\n",
                "import joblib\n",
                "from sklearn import tree"
            ]
        },
        {
            "attachments": {},
            "cell_type": "markdown",
            "metadata": {},
            "source": [
                "1. Import the Data."
            ]
        },
        {
            "cell_type": "code",
            "execution_count": 2,
            "metadata": {},
            "outputs": [],
            "source": [
                "df = pd.read_csv('cleanedfile.csv')"
            ]
        },
        {
            "attachments": {},
            "cell_type": "markdown",
            "metadata": {},
            "source": [
                "2. Display columns and describe the data set"
            ]
        },
        {
            "cell_type": "code",
            "execution_count": 3,
            "metadata": {},
            "outputs": [
                {
                    "name": "stdout",
                    "output_type": "stream",
                    "text": "\u003cclass 'pandas.core.frame.DataFrame'\u003e\nRangeIndex: 159 entries, 0 to 158\nData columns (total 8 columns):\n #   Column      Non-Null Count  Dtype  \n---  ------      --------------  -----  \n 0   Unnamed: 0  159 non-null    int64  \n 1   Species     159 non-null    object \n 2   Weight      159 non-null    float64\n 3   Length1     159 non-null    float64\n 4   Length2     159 non-null    float64\n 5   Length3     159 non-null    float64\n 6   Height      159 non-null    float64\n 7   Width       159 non-null    float64\ndtypes: float64(6), int64(1), object(1)\nmemory usage: 10.1+ KB\n"
                }
            ],
            "source": [
                "df.info()"
            ]
        },
        {
            "cell_type": "code",
            "execution_count": 4,
            "metadata": {},
            "outputs": [
                {
                    "data": {
                        "text/html": "\u003cdiv\u003e\n\u003cstyle scoped\u003e\n    .dataframe tbody tr th:only-of-type {\n        vertical-align: middle;\n    }\n\n    .dataframe tbody tr th {\n        vertical-align: top;\n    }\n\n    .dataframe thead th {\n        text-align: right;\n    }\n\u003c/style\u003e\n\u003ctable border=\"1\" class=\"dataframe\"\u003e\n  \u003cthead\u003e\n    \u003ctr style=\"text-align: right;\"\u003e\n      \u003cth\u003e\u003c/th\u003e\n      \u003cth\u003eUnnamed: 0\u003c/th\u003e\n      \u003cth\u003eWeight\u003c/th\u003e\n      \u003cth\u003eLength1\u003c/th\u003e\n      \u003cth\u003eLength2\u003c/th\u003e\n      \u003cth\u003eLength3\u003c/th\u003e\n      \u003cth\u003eHeight\u003c/th\u003e\n      \u003cth\u003eWidth\u003c/th\u003e\n    \u003c/tr\u003e\n  \u003c/thead\u003e\n  \u003ctbody\u003e\n    \u003ctr\u003e\n      \u003cth\u003ecount\u003c/th\u003e\n      \u003ctd\u003e159.000000\u003c/td\u003e\n      \u003ctd\u003e159.000000\u003c/td\u003e\n      \u003ctd\u003e159.000000\u003c/td\u003e\n      \u003ctd\u003e159.000000\u003c/td\u003e\n      \u003ctd\u003e159.000000\u003c/td\u003e\n      \u003ctd\u003e159.000000\u003c/td\u003e\n      \u003ctd\u003e159.000000\u003c/td\u003e\n    \u003c/tr\u003e\n    \u003ctr\u003e\n      \u003cth\u003emean\u003c/th\u003e\n      \u003ctd\u003e79.000000\u003c/td\u003e\n      \u003ctd\u003e398.326415\u003c/td\u003e\n      \u003ctd\u003e26.247170\u003c/td\u003e\n      \u003ctd\u003e28.415723\u003c/td\u003e\n      \u003ctd\u003e31.227044\u003c/td\u003e\n      \u003ctd\u003e8.970994\u003c/td\u003e\n      \u003ctd\u003e4.417486\u003c/td\u003e\n    \u003c/tr\u003e\n    \u003ctr\u003e\n      \u003cth\u003estd\u003c/th\u003e\n      \u003ctd\u003e46.043458\u003c/td\u003e\n      \u003ctd\u003e357.978317\u003c/td\u003e\n      \u003ctd\u003e9.996441\u003c/td\u003e\n      \u003ctd\u003e10.716328\u003c/td\u003e\n      \u003ctd\u003e11.610246\u003c/td\u003e\n      \u003ctd\u003e4.286208\u003c/td\u003e\n      \u003ctd\u003e1.685804\u003c/td\u003e\n    \u003c/tr\u003e\n    \u003ctr\u003e\n      \u003cth\u003emin\u003c/th\u003e\n      \u003ctd\u003e0.000000\u003c/td\u003e\n      \u003ctd\u003e0.000000\u003c/td\u003e\n      \u003ctd\u003e7.500000\u003c/td\u003e\n      \u003ctd\u003e8.400000\u003c/td\u003e\n      \u003ctd\u003e8.800000\u003c/td\u003e\n      \u003ctd\u003e1.728400\u003c/td\u003e\n      \u003ctd\u003e1.047600\u003c/td\u003e\n    \u003c/tr\u003e\n    \u003ctr\u003e\n      \u003cth\u003e25%\u003c/th\u003e\n      \u003ctd\u003e39.500000\u003c/td\u003e\n      \u003ctd\u003e120.000000\u003c/td\u003e\n      \u003ctd\u003e19.050000\u003c/td\u003e\n      \u003ctd\u003e21.000000\u003c/td\u003e\n      \u003ctd\u003e23.150000\u003c/td\u003e\n      \u003ctd\u003e5.944800\u003c/td\u003e\n      \u003ctd\u003e3.385650\u003c/td\u003e\n    \u003c/tr\u003e\n    \u003ctr\u003e\n      \u003cth\u003e50%\u003c/th\u003e\n      \u003ctd\u003e79.000000\u003c/td\u003e\n      \u003ctd\u003e273.000000\u003c/td\u003e\n      \u003ctd\u003e25.200000\u003c/td\u003e\n      \u003ctd\u003e27.300000\u003c/td\u003e\n      \u003ctd\u003e29.400000\u003c/td\u003e\n      \u003ctd\u003e7.786000\u003c/td\u003e\n      \u003ctd\u003e4.248500\u003c/td\u003e\n    \u003c/tr\u003e\n    \u003ctr\u003e\n      \u003cth\u003e75%\u003c/th\u003e\n      \u003ctd\u003e118.500000\u003c/td\u003e\n      \u003ctd\u003e650.000000\u003c/td\u003e\n      \u003ctd\u003e32.700000\u003c/td\u003e\n      \u003ctd\u003e35.500000\u003c/td\u003e\n      \u003ctd\u003e39.650000\u003c/td\u003e\n      \u003ctd\u003e12.365900\u003c/td\u003e\n      \u003ctd\u003e5.584500\u003c/td\u003e\n    \u003c/tr\u003e\n    \u003ctr\u003e\n      \u003cth\u003emax\u003c/th\u003e\n      \u003ctd\u003e158.000000\u003c/td\u003e\n      \u003ctd\u003e1650.000000\u003c/td\u003e\n      \u003ctd\u003e59.000000\u003c/td\u003e\n      \u003ctd\u003e63.400000\u003c/td\u003e\n      \u003ctd\u003e68.000000\u003c/td\u003e\n      \u003ctd\u003e18.957000\u003c/td\u003e\n      \u003ctd\u003e8.142000\u003c/td\u003e\n    \u003c/tr\u003e\n  \u003c/tbody\u003e\n\u003c/table\u003e\n\u003c/div\u003e",
                        "text/plain": "       Unnamed: 0       Weight     Length1     Length2     Length3  \\\ncount  159.000000   159.000000  159.000000  159.000000  159.000000   \nmean    79.000000   398.326415   26.247170   28.415723   31.227044   \nstd     46.043458   357.978317    9.996441   10.716328   11.610246   \nmin      0.000000     0.000000    7.500000    8.400000    8.800000   \n25%     39.500000   120.000000   19.050000   21.000000   23.150000   \n50%     79.000000   273.000000   25.200000   27.300000   29.400000   \n75%    118.500000   650.000000   32.700000   35.500000   39.650000   \nmax    158.000000  1650.000000   59.000000   63.400000   68.000000   \n\n           Height       Width  \ncount  159.000000  159.000000  \nmean     8.970994    4.417486  \nstd      4.286208    1.685804  \nmin      1.728400    1.047600  \n25%      5.944800    3.385650  \n50%      7.786000    4.248500  \n75%     12.365900    5.584500  \nmax     18.957000    8.142000  "
                    },
                    "execution_count": 4,
                    "metadata": {},
                    "output_type": "execute_result"
                }
            ],
            "source": [
                "df.describe()"
            ]
        },
        {
            "attachments": {},
            "cell_type": "markdown",
            "metadata": {},
            "source": [
                "3. Prepare Data"
            ]
        },
        {
            "cell_type": "code",
            "execution_count": 5,
            "metadata": {},
            "outputs": [
                {
                    "data": {
                        "text/html": "\u003cdiv\u003e\n\u003cstyle scoped\u003e\n    .dataframe tbody tr th:only-of-type {\n        vertical-align: middle;\n    }\n\n    .dataframe tbody tr th {\n        vertical-align: top;\n    }\n\n    .dataframe thead th {\n        text-align: right;\n    }\n\u003c/style\u003e\n\u003ctable border=\"1\" class=\"dataframe\"\u003e\n  \u003cthead\u003e\n    \u003ctr style=\"text-align: right;\"\u003e\n      \u003cth\u003e\u003c/th\u003e\n      \u003cth\u003eUnnamed: 0\u003c/th\u003e\n      \u003cth\u003eWeight\u003c/th\u003e\n      \u003cth\u003eLength1\u003c/th\u003e\n      \u003cth\u003eLength2\u003c/th\u003e\n      \u003cth\u003eLength3\u003c/th\u003e\n      \u003cth\u003eHeight\u003c/th\u003e\n      \u003cth\u003eWidth\u003c/th\u003e\n    \u003c/tr\u003e\n  \u003c/thead\u003e\n  \u003ctbody\u003e\n    \u003ctr\u003e\n      \u003cth\u003e0\u003c/th\u003e\n      \u003ctd\u003e0\u003c/td\u003e\n      \u003ctd\u003e242.0\u003c/td\u003e\n      \u003ctd\u003e23.2\u003c/td\u003e\n      \u003ctd\u003e25.4\u003c/td\u003e\n      \u003ctd\u003e30.0\u003c/td\u003e\n      \u003ctd\u003e11.5200\u003c/td\u003e\n      \u003ctd\u003e4.0200\u003c/td\u003e\n    \u003c/tr\u003e\n    \u003ctr\u003e\n      \u003cth\u003e1\u003c/th\u003e\n      \u003ctd\u003e1\u003c/td\u003e\n      \u003ctd\u003e290.0\u003c/td\u003e\n      \u003ctd\u003e24.0\u003c/td\u003e\n      \u003ctd\u003e26.3\u003c/td\u003e\n      \u003ctd\u003e31.2\u003c/td\u003e\n      \u003ctd\u003e12.4800\u003c/td\u003e\n      \u003ctd\u003e4.3056\u003c/td\u003e\n    \u003c/tr\u003e\n    \u003ctr\u003e\n      \u003cth\u003e2\u003c/th\u003e\n      \u003ctd\u003e2\u003c/td\u003e\n      \u003ctd\u003e340.0\u003c/td\u003e\n      \u003ctd\u003e23.9\u003c/td\u003e\n      \u003ctd\u003e26.5\u003c/td\u003e\n      \u003ctd\u003e31.1\u003c/td\u003e\n      \u003ctd\u003e12.3778\u003c/td\u003e\n      \u003ctd\u003e4.6961\u003c/td\u003e\n    \u003c/tr\u003e\n    \u003ctr\u003e\n      \u003cth\u003e3\u003c/th\u003e\n      \u003ctd\u003e3\u003c/td\u003e\n      \u003ctd\u003e363.0\u003c/td\u003e\n      \u003ctd\u003e26.3\u003c/td\u003e\n      \u003ctd\u003e29.0\u003c/td\u003e\n      \u003ctd\u003e33.5\u003c/td\u003e\n      \u003ctd\u003e12.7300\u003c/td\u003e\n      \u003ctd\u003e4.4555\u003c/td\u003e\n    \u003c/tr\u003e\n    \u003ctr\u003e\n      \u003cth\u003e4\u003c/th\u003e\n      \u003ctd\u003e4\u003c/td\u003e\n      \u003ctd\u003e430.0\u003c/td\u003e\n      \u003ctd\u003e26.5\u003c/td\u003e\n      \u003ctd\u003e29.0\u003c/td\u003e\n      \u003ctd\u003e34.0\u003c/td\u003e\n      \u003ctd\u003e12.4440\u003c/td\u003e\n      \u003ctd\u003e5.1340\u003c/td\u003e\n    \u003c/tr\u003e\n    \u003ctr\u003e\n      \u003cth\u003e...\u003c/th\u003e\n      \u003ctd\u003e...\u003c/td\u003e\n      \u003ctd\u003e...\u003c/td\u003e\n      \u003ctd\u003e...\u003c/td\u003e\n      \u003ctd\u003e...\u003c/td\u003e\n      \u003ctd\u003e...\u003c/td\u003e\n      \u003ctd\u003e...\u003c/td\u003e\n      \u003ctd\u003e...\u003c/td\u003e\n    \u003c/tr\u003e\n    \u003ctr\u003e\n      \u003cth\u003e154\u003c/th\u003e\n      \u003ctd\u003e154\u003c/td\u003e\n      \u003ctd\u003e12.2\u003c/td\u003e\n      \u003ctd\u003e11.5\u003c/td\u003e\n      \u003ctd\u003e12.2\u003c/td\u003e\n      \u003ctd\u003e13.4\u003c/td\u003e\n      \u003ctd\u003e2.0904\u003c/td\u003e\n      \u003ctd\u003e1.3936\u003c/td\u003e\n    \u003c/tr\u003e\n    \u003ctr\u003e\n      \u003cth\u003e155\u003c/th\u003e\n      \u003ctd\u003e155\u003c/td\u003e\n      \u003ctd\u003e13.4\u003c/td\u003e\n      \u003ctd\u003e11.7\u003c/td\u003e\n      \u003ctd\u003e12.4\u003c/td\u003e\n      \u003ctd\u003e13.5\u003c/td\u003e\n      \u003ctd\u003e2.4300\u003c/td\u003e\n      \u003ctd\u003e1.2690\u003c/td\u003e\n    \u003c/tr\u003e\n    \u003ctr\u003e\n      \u003cth\u003e156\u003c/th\u003e\n      \u003ctd\u003e156\u003c/td\u003e\n      \u003ctd\u003e12.2\u003c/td\u003e\n      \u003ctd\u003e12.1\u003c/td\u003e\n      \u003ctd\u003e13.0\u003c/td\u003e\n      \u003ctd\u003e13.8\u003c/td\u003e\n      \u003ctd\u003e2.2770\u003c/td\u003e\n      \u003ctd\u003e1.2558\u003c/td\u003e\n    \u003c/tr\u003e\n    \u003ctr\u003e\n      \u003cth\u003e157\u003c/th\u003e\n      \u003ctd\u003e157\u003c/td\u003e\n      \u003ctd\u003e19.7\u003c/td\u003e\n      \u003ctd\u003e13.2\u003c/td\u003e\n      \u003ctd\u003e14.3\u003c/td\u003e\n      \u003ctd\u003e15.2\u003c/td\u003e\n      \u003ctd\u003e2.8728\u003c/td\u003e\n      \u003ctd\u003e2.0672\u003c/td\u003e\n    \u003c/tr\u003e\n    \u003ctr\u003e\n      \u003cth\u003e158\u003c/th\u003e\n      \u003ctd\u003e158\u003c/td\u003e\n      \u003ctd\u003e19.9\u003c/td\u003e\n      \u003ctd\u003e13.8\u003c/td\u003e\n      \u003ctd\u003e15.0\u003c/td\u003e\n      \u003ctd\u003e16.2\u003c/td\u003e\n      \u003ctd\u003e2.9322\u003c/td\u003e\n      \u003ctd\u003e1.8792\u003c/td\u003e\n    \u003c/tr\u003e\n  \u003c/tbody\u003e\n\u003c/table\u003e\n\u003cp\u003e159 rows × 7 columns\u003c/p\u003e\n\u003c/div\u003e",
                        "text/plain": "     Unnamed: 0  Weight  Length1  Length2  Length3   Height   Width\n0             0   242.0     23.2     25.4     30.0  11.5200  4.0200\n1             1   290.0     24.0     26.3     31.2  12.4800  4.3056\n2             2   340.0     23.9     26.5     31.1  12.3778  4.6961\n3             3   363.0     26.3     29.0     33.5  12.7300  4.4555\n4             4   430.0     26.5     29.0     34.0  12.4440  5.1340\n..          ...     ...      ...      ...      ...      ...     ...\n154         154    12.2     11.5     12.2     13.4   2.0904  1.3936\n155         155    13.4     11.7     12.4     13.5   2.4300  1.2690\n156         156    12.2     12.1     13.0     13.8   2.2770  1.2558\n157         157    19.7     13.2     14.3     15.2   2.8728  2.0672\n158         158    19.9     13.8     15.0     16.2   2.9322  1.8792\n\n[159 rows x 7 columns]"
                    },
                    "execution_count": 5,
                    "metadata": {},
                    "output_type": "execute_result"
                }
            ],
            "source": [
                "# Run this section to inspect X\n",
                "X = df.drop(columns = ['Species'])\n",
                "X"
            ]
        },
        {
            "cell_type": "code",
            "execution_count": 6,
            "metadata": {},
            "outputs": [
                {
                    "data": {
                        "text/plain": "0      Bream\n1      Bream\n2      Bream\n3      Bream\n4      Bream\n       ...  \n154    Smelt\n155    Smelt\n156    Smelt\n157    Smelt\n158    Smelt\nName: Species, Length: 159, dtype: object"
                    },
                    "execution_count": 6,
                    "metadata": {},
                    "output_type": "execute_result"
                }
            ],
            "source": [
                "# Uncomment this section to inpect y\n",
                "y = df['Species']\n",
                "y"
            ]
        },
        {
            "attachments": {},
            "cell_type": "markdown",
            "metadata": {},
            "source": [
                "4. Calculate accuracy"
            ]
        },
        {
            "cell_type": "code",
            "execution_count": 7,
            "metadata": {},
            "outputs": [
                {
                    "data": {
                        "text/plain": "0.9375"
                    },
                    "execution_count": 7,
                    "metadata": {},
                    "output_type": "execute_result"
                }
            ],
            "source": [
                "# Train 80% of the data set and use the rest to test\n",
                "X_train, X_test, y_train, y_test = train_test_split(\n",
                "                                    X, y, test_size=0.2)\n",
                "\n",
                "model = DecisionTreeClassifier()\n",
                "model.fit(X_train, y_train)\n",
                "predictions = model.predict(X_test)\n",
                "\n",
                "# Compute model accuracy\n",
                "score = accuracy_score(y_test, predictions)\n",
                "score"
            ]
        },
        {
            "attachments": {},
            "cell_type": "markdown",
            "metadata": {},
            "source": [
                "5. Persisting Models"
            ]
        },
        {
            "cell_type": "code",
            "execution_count": 8,
            "metadata": {},
            "outputs": [
                {
                    "data": {
                        "text/plain": "['MODELNAME.joblib']"
                    },
                    "execution_count": 8,
                    "metadata": {},
                    "output_type": "execute_result"
                }
            ],
            "source": [
                "# Save the model to file\n",
                "joblib.dump(model, 'MODELNAME.joblib')\n",
                ""
            ]
        },
        {
            "attachments": {},
            "cell_type": "markdown",
            "metadata": {},
            "source": [
                "5.b. Import the model and make predictions"
            ]
        },
        {
            "cell_type": "code",
            "execution_count": 9,
            "metadata": {},
            "outputs": [
                {
                    "data": {
                        "text/plain": "array(['Roach', 'Smelt', 'Perch', 'Bream', 'Smelt', 'Parkki', 'Parkki',\n       'Smelt', 'Roach', 'Perch', 'Perch', 'Perch', 'Perch', 'Parkki',\n       'Perch', 'Perch', 'Perch', 'Perch', 'Smelt', 'Bream', 'Perch',\n       'Perch', 'Bream', 'Perch', 'Pike', 'Roach', 'Smelt', 'Bream',\n       'Perch', 'Roach', 'Perch', 'Bream'], dtype=object)"
                    },
                    "execution_count": 9,
                    "metadata": {},
                    "output_type": "execute_result"
                }
            ],
            "source": [
                "# Load saved model. Make sure that you have run the previous\n",
                "# section at least once, and that the file exists.\n",
                "\n",
                "model = joblib.load('MODELNAME.joblib')\n",
                "predictions = model.predict(X_test)\n",
                "predictions"
            ]
        },
        {
            "attachments": {},
            "cell_type": "markdown",
            "metadata": {},
            "source": [
                "6. (Optional) Visualize decision trees"
            ]
        },
        {
            "cell_type": "code",
            "execution_count": 10,
            "metadata": {},
            "outputs": [],
            "source": [
                "tree.export_graphviz(model, out_file = 'MODELNAME.dot',\n",
                "                    feature_names = X.columns, \n",
                "                    class_names = str(sorted(y.unique())), \n",
                "                    label = 'all',\n",
                "                    rounded = True, \n",
                "                    filled = True)\n",
                "\n",
                "#Download the file music-recommender.dot and open it in VS Code.\n",
                ""
            ]
        }
    ]
}
